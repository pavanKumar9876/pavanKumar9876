{
  "nbformat": 4,
  "nbformat_minor": 0,
  "metadata": {
    "colab": {
      "provenance": [],
      "mount_file_id": "1521LmeNDxLAX3pURneB9SyDdSjj93SQj",
      "authorship_tag": "ABX9TyOCL0eJA2POYL55QslU3xgg",
      "include_colab_link": true
    },
    "kernelspec": {
      "name": "python3",
      "display_name": "Python 3"
    },
    "language_info": {
      "name": "python"
    }
  },
  "cells": [
    {
      "cell_type": "markdown",
      "metadata": {
        "id": "view-in-github",
        "colab_type": "text"
      },
      "source": [
        "<a href=\"https://colab.research.google.com/github/pavanKumar9876/pavanKumar9876/blob/main/InventoryImagesDetails.ipynb\" target=\"_parent\"><img src=\"https://colab.research.google.com/assets/colab-badge.svg\" alt=\"Open In Colab\"/></a>"
      ]
    },
    {
      "cell_type": "code",
      "source": [
        "!pip install -q -U google-generativeai\n",
        "\n",
        "#Import libraries\n",
        "import google.generativeai as genai\n",
        "from google.colab import userdata\n",
        "from IPython.display import display\n",
        "from IPython.display import Markdown\n",
        "import PIL.Image\n",
        "\n",
        "# configure api key and initialise model\n",
        "from google.colab import userdata\n",
        "import os\n",
        "\n",
        "\n",
        "if \"GOOGLE_API_KEY\" not in os.environ:\n",
        "    os.environ[\"GOOGLE_API_KEY\"] = userdata.get('InventroyImages')\n",
        "\n",
        "genai.configure(api_key=os.environ['GOOGLE_API_KEY'])\n",
        "\n",
        "\n",
        "for m in genai.list_models():\n",
        "  if 'generateContent' in m.supported_generation_methods:\n",
        "    print(m.name)"
      ],
      "metadata": {
        "colab": {
          "base_uri": "https://localhost:8080/",
          "height": 260
        },
        "id": "9zmzRcNZ7-pr",
        "outputId": "5766f6ea-ef25-48bd-fc0f-274c9fc0c958"
      },
      "execution_count": 2,
      "outputs": [
        {
          "output_type": "stream",
          "name": "stdout",
          "text": [
            "models/gemini-1.0-pro-latest\n",
            "models/gemini-1.0-pro\n",
            "models/gemini-pro\n",
            "models/gemini-1.0-pro-001\n",
            "models/gemini-1.0-pro-vision-latest\n",
            "models/gemini-pro-vision\n",
            "models/gemini-1.5-pro-latest\n",
            "models/gemini-1.5-pro-001\n",
            "models/gemini-1.5-pro\n",
            "models/gemini-1.5-pro-exp-0801\n",
            "models/gemini-1.5-flash-latest\n",
            "models/gemini-1.5-flash-001\n",
            "models/gemini-1.5-flash\n",
            "models/gemini-1.5-flash-001-tuning\n"
          ]
        }
      ]
    },
    {
      "cell_type": "code",
      "source": [
        "#install Langchain Standalone package\n",
        "\n",
        "!pip install -U --quiet langchain-google-genai pillow\n"
      ],
      "metadata": {
        "colab": {
          "base_uri": "https://localhost:8080/"
        },
        "id": "B4JZm5nZ8AEL",
        "outputId": "bf066ead-125a-4e58-86f4-a69018f91a8d"
      },
      "execution_count": 3,
      "outputs": [
        {
          "output_type": "stream",
          "name": "stdout",
          "text": [
            "\u001b[2K     \u001b[90m━━━━━━━━━━━━━━━━━━━━━━━━━━━━━━━━━━━━━━━━\u001b[0m \u001b[32m50.4/50.4 kB\u001b[0m \u001b[31m2.0 MB/s\u001b[0m eta \u001b[36m0:00:00\u001b[0m\n",
            "\u001b[2K   \u001b[90m━━━━━━━━━━━━━━━━━━━━━━━━━━━━━━━━━━━━━━━━\u001b[0m \u001b[32m4.5/4.5 MB\u001b[0m \u001b[31m27.2 MB/s\u001b[0m eta \u001b[36m0:00:00\u001b[0m\n",
            "\u001b[2K   \u001b[90m━━━━━━━━━━━━━━━━━━━━━━━━━━━━━━━━━━━━━━━━\u001b[0m \u001b[32m384.0/384.0 kB\u001b[0m \u001b[31m13.1 MB/s\u001b[0m eta \u001b[36m0:00:00\u001b[0m\n",
            "\u001b[2K   \u001b[90m━━━━━━━━━━━━━━━━━━━━━━━━━━━━━━━━━━━━━━━━\u001b[0m \u001b[32m140.2/140.2 kB\u001b[0m \u001b[31m6.4 MB/s\u001b[0m eta \u001b[36m0:00:00\u001b[0m\n",
            "\u001b[2K   \u001b[90m━━━━━━━━━━━━━━━━━━━━━━━━━━━━━━━━━━━━━━━━\u001b[0m \u001b[32m141.9/141.9 kB\u001b[0m \u001b[31m2.9 MB/s\u001b[0m eta \u001b[36m0:00:00\u001b[0m\n",
            "\u001b[?25h\u001b[31mERROR: pip's dependency resolver does not currently take into account all the packages that are installed. This behaviour is the source of the following dependency conflicts.\n",
            "imageio 2.31.6 requires pillow<10.1.0,>=8.3.2, but you have pillow 10.4.0 which is incompatible.\u001b[0m\u001b[31m\n",
            "\u001b[0m"
          ]
        }
      ]
    },
    {
      "source": [
        "from langchain_google_genai import ChatGoogleGenerativeAI\n",
        "\n",
        "from langchain_core.messages import HumanMessage\n",
        "from langchain_google_genai import ChatGoogleGenerativeAI\n",
        "\n",
        "llm = ChatGoogleGenerativeAI(model=\"gemini-1.5-flash\")\n",
        "\n",
        "# example\n",
        "image = PIL.Image.open('/content/Images20png.png')\n",
        "# Convert the image to base64 string\n",
        "import io\n",
        "import base64\n",
        "buffered = io.BytesIO()\n",
        "image.save(buffered, format=\"PNG\")\n",
        "img_str = base64.b64encode(buffered.getvalue()).decode()\n",
        "\n",
        "hmessage1 = HumanMessage(\n",
        "    content=[\n",
        "        {\n",
        "            \"type\": \"text\",\n",
        "            \"text\": \"What's in this image?\",\n",
        "        },  # You can optionally provide text parts\n",
        "        {\"type\": \"image_url\", \"image_url\": f\"data:image/png;base64,{img_str}\"}, # Pass the image as base64 string\n",
        "    ]\n",
        ")\n",
        "message1 = llm.invoke([hmessage1])\n",
        "print(message1.content)"
      ],
      "cell_type": "code",
      "metadata": {
        "colab": {
          "base_uri": "https://localhost:8080/"
        },
        "id": "Pt7W6_EVBcE5",
        "outputId": "72b36609-9715-4b6c-ede4-6ca8608d0f82"
      },
      "execution_count": 7,
      "outputs": [
        {
          "output_type": "stream",
          "name": "stdout",
          "text": [
            "A lion and a dog are playing chess. The lion is sitting on the right side of the board with its paw on the table. The dog is sitting on the left side of the board. There are chess pieces on the board. The background is a dark room with a candle on a table.\n"
          ]
        }
      ]
    },
    {
      "source": [
        "image = PIL.Image.open('/content/Inventorypng.png')\n",
        "\n",
        "import io\n",
        "import base64\n",
        "buffered = io.BytesIO()\n",
        "image.save(buffered, format=\"PNG\")\n",
        "img_str = base64.b64encode(buffered.getvalue()).decode()\n",
        "\n",
        "\n",
        "hmessage1 = HumanMessage(\n",
        "    content=[\n",
        "        {\n",
        "            \"type\": \"text\",\n",
        "            \"text\": \"Convert Invoice data into json format with appropriate json tags as required for the data in image \",\n",
        "        },  # You can optionally provide text parts\n",
        "        {\"type\": \"image_url\", \"image_url\": f\"data:image/png;base64,{img_str}\"}, # Pass the image as base64 string\n",
        "    ]\n",
        ")\n",
        "message1 = llm.invoke([hmessage1])\n",
        "print(message1.content)"
      ],
      "cell_type": "code",
      "metadata": {
        "colab": {
          "base_uri": "https://localhost:8080/"
        },
        "id": "xdjn3ulUDYsM",
        "outputId": "8da34a58-8ea1-40ee-bee2-680372c20164"
      },
      "execution_count": 15,
      "outputs": [
        {
          "output_type": "stream",
          "name": "stdout",
          "text": [
            "```json\n",
            "{\n",
            "  \"invoice_data\": {\n",
            "    \"company_name\": \"TATA MOTORS LIMITED\",\n",
            "    \"gstn\": \"27AAACT2727Q1ZW\",\n",
            "    \"seeds_lic\": \"No LASD67898369\",\n",
            "    \"fertilizers_lic\": \"No LASD34564756\",\n",
            "    \"insecticide_lic\": \"No LAID 26453734\",\n",
            "    \"address\": \"TATA MOTORS LIMITED Nigdi Bhosari Road, PIMPRI Pune, MAHARASHTRA, 411018\",\n",
            "    \"bill_to\": \"TEST\",\n",
            "    \"bill_to_address\": \"Hyderabad, TELANGANA, 500089\",\n",
            "    \"bill_to_phone\": \"9108239284\",\n",
            "    \"bill_to_email\": \"test@gmail.com\",\n",
            "    \"invoice_date\": \"18 Jul 2024\",\n",
            "    \"place_of_supply\": \"36-TELANGANA\",\n",
            "    \"enquire_id\": \"06-06-2024\",\n",
            "    \"ship_to\": \"Test\",\n",
            "    \"ship_to_address\": \"Hyderabad, TELANGANA, 500089\",\n",
            "    \"invoice_number\": \"Inv41\",\n",
            "    \"items\": [\n",
            "      {\n",
            "        \"item_no\": 1,\n",
            "        \"item_name\": \"WASTE AND SCRAP OF STAINLESS STEEL\",\n",
            "        \"hsn\": \"72042190\",\n",
            "        \"rate\": 95.00,\n",
            "        \"quantity\": \"6,790 KGS\",\n",
            "        \"total_amount\": \"6,45,050.00\"\n",
            "      }\n",
            "    ],\n",
            "    \"bank_details\": {\n",
            "      \"bank_name\": \"IDBI\",\n",
            "      \"account_number\": \"1234567890\",\n",
            "      \"ifsc_code\": \"IBKL0000432\",\n",
            "      \"branch\": \"GACHIBOWLI\",\n",
            "      \"beneficiary_name\": \"ROMOLIKA SAHANI\",\n",
            "      \"total_amount_in_words\": \"INR Seven Lakh, Sixty-Eight Thousand, Seven Hundred And Seventy-One Rupees Only.\"\n",
            "    },\n",
            "    \"taxable_amount\": \"6,45,050.00\",\n",
            "    \"igst\": \"1,16,109.00\",\n",
            "    \"round_off\": \"0.41\",\n",
            "    \"tcs\": \"7,611.59\",\n",
            "    \"total\": \"7,68,771.00\",\n",
            "    \"amount_payable\": \"7,68,771.00\",\n",
            "    \"terms_and_conditions\": \"GOODS ONCE SOLD CANNOT BE RETURNED. ONLY GOODS THAT ARE DAMAGED CAN BE RETURNED UNDER SPECIFIC TERM S& CONDITIONS.\",\n",
            "    \"authorized_signatory\": \"Amlnbhal Marwa\"\n",
            "  }\n",
            "}\n",
            "```\n"
          ]
        }
      ]
    },
    {
      "source": [
        "import json\n",
        "\n",
        "# Find the start and end of the JSON string within the LLM response\n",
        "start_index = message1.content.find('{')\n",
        "end_index = message1.content.rfind('}') + 1  # Add 1 to include the closing brace\n",
        "\n",
        "# Extract the JSON string\n",
        "json_string = message1.content[start_index:end_index]\n",
        "\n",
        "# Parse the JSON string\n",
        "invoice_data = json.loads(json_string)\n",
        "\n",
        "# Access elements using dictionary keys and list indices\n",
        "customer_details = {\n",
        "    \"name\": invoice_data.get(\"invoice_data\", {}).get(\"bill_to\"),\n",
        "    \"address\": invoice_data.get(\"invoice_data\", {}).get(\"bill_to_address\"),\n",
        "    \"phone\": invoice_data.get(\"invoice_data\", {}).get(\"bill_to_phone\"),\n",
        "    \"email\": invoice_data.get(\"invoice_data\", {}).get(\"bill_to_email\")\n",
        "}\n",
        "\n",
        "# Fetch products (adjust keys as needed based on the actual structure)\n",
        "products = invoice_data.get(\"invoice_data\", {}).get(\"items\", [])\n",
        "\n",
        "# Fetch total amount (adjust keys as needed)\n",
        "total_amount = invoice_data.get(\"invoice_data\", {}).get(\"total\")\n",
        "\n",
        "# Print results\n",
        "print(\"Customer Details\")\n",
        "for key, value in customer_details.items():\n",
        "    print(f\"{key}: {value}\")\n",
        "print()\n",
        "print(\"Products\")\n",
        "for product in products:\n",
        "    for key, value in product.items():\n",
        "        print(f\"{key}: {value}\")\n",
        "print()\n",
        "print(\"Total Amount:\", total_amount)"
      ],
      "cell_type": "code",
      "metadata": {
        "colab": {
          "base_uri": "https://localhost:8080/"
        },
        "id": "eBbJKpOjGcYD",
        "outputId": "6edbb838-603f-4d1f-baa7-9bd2067af198"
      },
      "execution_count": 31,
      "outputs": [
        {
          "output_type": "stream",
          "name": "stdout",
          "text": [
            "Customer Details\n",
            "name: TEST\n",
            "address: Hyderabad, TELANGANA, 500089\n",
            "phone: 9108239284\n",
            "email: test@gmail.com\n",
            "\n",
            "Products\n",
            "item_no: 1\n",
            "item_name: WASTE AND SCRAP OF STAINLESS STEEL\n",
            "hsn: 72042190\n",
            "rate: 95.0\n",
            "quantity: 6,790 KGS\n",
            "total_amount: 6,45,050.00\n",
            "\n",
            "Total Amount: 7,68,771.00\n"
          ]
        }
      ]
    },
    {
      "cell_type": "markdown",
      "source": [
        "##**Inventory2**"
      ],
      "metadata": {
        "id": "czbyINtMJbQD"
      }
    },
    {
      "cell_type": "code",
      "source": [
        "image = PIL.Image.open('/content/InvoicePng2.png')\n",
        "\n",
        "import io\n",
        "import base64\n",
        "buffered = io.BytesIO()\n",
        "image.save(buffered, format=\"PNG\")\n",
        "img_str = base64.b64encode(buffered.getvalue()).decode()\n",
        "\n",
        "\n",
        "hmessage1 = HumanMessage(\n",
        "    content=[\n",
        "        {\n",
        "            \"type\": \"text\",\n",
        "            \"text\": \"Convert Invoice data into json format with appropriate json tags as required for the data in image and make json object for customer details, total amount, items definitely\",\n",
        "        },  # You can optionally provide text parts\n",
        "        {\"type\": \"image_url\", \"image_url\": f\"data:image/png;base64,{img_str}\"}, # Pass the image as base64 string\n",
        "    ]\n",
        ")\n",
        "message2 = llm.invoke([hmessage1])\n",
        "print(message2.content)"
      ],
      "metadata": {
        "colab": {
          "base_uri": "https://localhost:8080/"
        },
        "id": "Hjj528vDFMyz",
        "outputId": "ece9161a-f62b-470a-f536-6e64f884c322"
      },
      "execution_count": 38,
      "outputs": [
        {
          "output_type": "stream",
          "name": "stdout",
          "text": [
            "```json\n",
            "{\n",
            "  \"customer_details\": {\n",
            "    \"bill_to\": \"Test\",\n",
            "    \"address\": \"Hyderabad, TELANGANA, 500089\",\n",
            "    \"phone\": \"9108239284\",\n",
            "    \"email\": \"test@gmail.com\"\n",
            "  },\n",
            "  \"invoice_details\": {\n",
            "    \"invoice_number\": \"Inv41\",\n",
            "    \"invoice_date\": \"18 Jul 2024\",\n",
            "    \"place_of_supply\": \"36-TELANGANA\",\n",
            "    \"enquire_id\": \"06-06-2024\",\n",
            "    \"ship_to\": \"Hyderabad, TELANGANA, 500089\",\n",
            "    \"total_amount\": \"7,68,771.00\"\n",
            "  },\n",
            "  \"items\": [\n",
            "    {\n",
            "      \"imei_no\": 1,\n",
            "      \"item\": \"WASTE AND SCRAP OF STAINLESS STEEL\",\n",
            "      \"hsn\": \"72042190\",\n",
            "      \"rate\": 95.00,\n",
            "      \"quantity\": \"6,790 KGS\",\n",
            "      \"total_amount\": \"6,45,050.00\"\n",
            "    }\n",
            "  ],\n",
            "  \"tax_details\": {\n",
            "    \"taxable_amount\": \"6,45,050.00\",\n",
            "    \"igst\": \"1,16,109.00\",\n",
            "    \"round_off\": \"0.41\",\n",
            "    \"tcs\": \"7,611.59\"\n",
            "  },\n",
            "  \"payment_details\": {\n",
            "    \"amount_payable\": \"7,68,771.00\"\n",
            "  }\n",
            "}\n",
            "```\n"
          ]
        }
      ]
    },
    {
      "cell_type": "code",
      "source": [
        "import json\n",
        "\n",
        "# Find the start and end of the JSON string within the LLM response\n",
        "start_index = message2.content.find('{')\n",
        "end_index = message2.content.rfind('}') + 1  # Add 1 to include the closing brace\n",
        "\n",
        "# Extract the JSON string\n",
        "json_string = message2.content[start_index:end_index]\n",
        "\n",
        "# Parse the JSON string\n",
        "invoice_data = json.loads(json_string)\n",
        "\n",
        "# Access elements using dictionary keys and list indices\n",
        "customer_details = {\n",
        "    \"name\": invoice_data.get(\"customer_details\").get(\"bill_to\"),\n",
        "    \"address\": invoice_data.get(\"customer_details\").get(\"address\"),\n",
        "    \"phone\": invoice_data.get(\"customer_details\").get(\"phone\"),\n",
        "    \"email\": invoice_data.get(\"customer_details\").get(\"email\")\n",
        "}\n",
        "\n",
        "# Fetch products (adjust keys as needed based on the actual structure)\n",
        "products = invoice_data.get(\"items\", [])\n",
        "\n",
        "# Fetch total amount (adjust keys as needed)\n",
        "total_amount = invoice_data.get(\"payment_details\").get(\"amount_payable\")\n",
        "\n",
        "# Print results\n",
        "print(\"Inventory2 Details:\")\n",
        "print(\"Customer Details\")\n",
        "for key, value in customer_details.items():\n",
        "    print(f\"{key}: {value}\")\n",
        "print()\n",
        "print(\"Products\")\n",
        "for product in products:\n",
        "    for key, value in product.items():\n",
        "        print(f\"{key}: {value}\")\n",
        "print()\n",
        "print(\"Total Amount:\", total_amount)"
      ],
      "metadata": {
        "colab": {
          "base_uri": "https://localhost:8080/"
        },
        "id": "_XdvKrFTJhkn",
        "outputId": "09aa5a93-09d7-4449-9199-99914493eabd"
      },
      "execution_count": 44,
      "outputs": [
        {
          "output_type": "stream",
          "name": "stdout",
          "text": [
            "Inventory2 Details:\n",
            "Customer Details\n",
            "name: Test\n",
            "address: Hyderabad, TELANGANA, 500089\n",
            "phone: 9108239284\n",
            "email: test@gmail.com\n",
            "\n",
            "Products\n",
            "imei_no: 1\n",
            "item: WASTE AND SCRAP OF STAINLESS STEEL\n",
            "hsn: 72042190\n",
            "rate: 95.0\n",
            "quantity: 6,790 KGS\n",
            "total_amount: 6,45,050.00\n",
            "\n",
            "Total Amount: 7,68,771.00\n"
          ]
        }
      ]
    },
    {
      "cell_type": "markdown",
      "source": [
        "##Inventory3"
      ],
      "metadata": {
        "id": "bz3nGTv7N7Rl"
      }
    },
    {
      "cell_type": "code",
      "source": [
        "image = PIL.Image.open('/content/Invoice3Png.png')\n",
        "\n",
        "import io\n",
        "import base64\n",
        "buffered = io.BytesIO()\n",
        "image.save(buffered, format=\"PNG\")\n",
        "img_str = base64.b64encode(buffered.getvalue()).decode()\n",
        "\n",
        "\n",
        "hmessage1 = HumanMessage(\n",
        "    content=[\n",
        "        {\n",
        "            \"type\": \"text\",\n",
        "            \"text\": \"Convert Invoice data into json format with appropriate json tags as required for the data in image and make json object for customer details, total amount, items definitely\",\n",
        "        },  # You can optionally provide text parts\n",
        "        {\"type\": \"image_url\", \"image_url\": f\"data:image/png;base64,{img_str}\"}, # Pass the image as base64 string\n",
        "    ]\n",
        ")\n",
        "message3 = llm.invoke([hmessage1])\n",
        "print(message3.content)"
      ],
      "metadata": {
        "colab": {
          "base_uri": "https://localhost:8080/"
        },
        "id": "Dk7n5tEKJtOp",
        "outputId": "651b5fd2-3649-41fe-be64-f395dcbbba19"
      },
      "execution_count": 46,
      "outputs": [
        {
          "output_type": "stream",
          "name": "stdout",
          "text": [
            "```json\n",
            "{\n",
            "  \"customer_details\": {\n",
            "    \"name\": \"TEST\",\n",
            "    \"billing_address\": \"Hyderabad, TELANGANA, 500089\",\n",
            "    \"phone\": \"9108239284\",\n",
            "    \"email\": \"test@gmail.com\",\n",
            "    \"shipping_address\": \"Hyderabad, TELANGANA, 500089\"\n",
            "  },\n",
            "  \"invoice_details\": {\n",
            "    \"invoice_number\": \"inv41\",\n",
            "    \"date\": \"18 Jul 2024\",\n",
            "    \"place_of_supply\": \"36-TELANGANA\",\n",
            "    \"enquire_id\": \"06-06-2024\",\n",
            "    \"total_amount\": \"7,61,159.00\",\n",
            "    \"total_items\": \"1 / 6790.000\",\n",
            "    \"total_amount_words\": \"INR Seven Lakh, Sixty-Eight Thousand, Seven Hundred And Seventy-One Rupees Only.\"\n",
            "  },\n",
            "  \"items\": [\n",
            "    {\n",
            "      \"imei_no\": 1,\n",
            "      \"item\": \"WASTE AND SCRAP OF STAINLESS STEEL\",\n",
            "      \"hsn_sac\": 72042190,\n",
            "      \"rate\": 95.00,\n",
            "      \"quantity\": \"6,790 KGS\",\n",
            "      \"amount\": \"6,45,050.00\",\n",
            "      \"igst\": \"1,16,109.00 (18%)\",\n",
            "      \"total_amount\": \"7,61,159.00\"\n",
            "    }\n",
            "  ],\n",
            "  \"bank_details\": {\n",
            "    \"bank\": \"IDBI\",\n",
            "    \"account_number\": \"1234567890\",\n",
            "    \"ifsc_code\": \"IBKL0000432\",\n",
            "    \"branch\": \"GACHIBOWLI\",\n",
            "    \"upi_id\": \"7095285474@ybl\",\n",
            "    \"beneficiary_name\": \"ROMOLIKA SAHANI\"\n",
            "  },\n",
            "  \"tax_summary\": {\n",
            "    \"taxable_amount\": \"6,45,050.00\",\n",
            "    \"igst_18.0%\": \"1,16,109.00\",\n",
            "    \"round_off\": \"0.41\",\n",
            "    \"total\": \"7,68,771.00\",\n",
            "    \"tcs_1%_206c\": \"7611.58984375\",\n",
            "    \"amount_payable\": \"7,68,771.00\"\n",
            "  },\n",
            "  \"terms_and_conditions\": \"GOODS ONCE SOLD CANNOT BE RETURNED. ONLY GOODS THAT ARE DAMAGED CAN BE RETURNED UNDER SPECIFIC TERM S& CONDITIONS.\"\n",
            "}\n",
            "```\n"
          ]
        }
      ]
    },
    {
      "cell_type": "code",
      "source": [
        "import json\n",
        "\n",
        "# Find the start and end of the JSON string within the LLM response\n",
        "start_index = message3.content.find('{')\n",
        "end_index = message3.content.rfind('}') + 1  # Add 1 to include the closing brace\n",
        "\n",
        "# Extract the JSON string\n",
        "json_string = message3.content[start_index:end_index]\n",
        "\n",
        "# Parse the JSON string\n",
        "invoice_data = json.loads(json_string)\n",
        "\n",
        "# Access elements using dictionary keys and list indices\n",
        "customer_details = {\n",
        "    \"name\": invoice_data.get(\"customer_details\").get(\"name\"),\n",
        "    \"billing_address\": invoice_data.get(\"customer_details\").get(\"billing_address\"),\n",
        "    \"phone\": invoice_data.get(\"customer_details\").get(\"phone\"),\n",
        "    \"email\": invoice_data.get(\"customer_details\").get(\"email\"),\n",
        "    \"shipping_address\": invoice_data.get(\"customer_details\").get(\"shipping_address\")\n",
        "}\n",
        "\n",
        "# Fetch products (adjust keys as needed based on the actual structure)\n",
        "products = invoice_data.get(\"items\", [])\n",
        "\n",
        "# Fetch total amount (adjust keys as needed)\n",
        "total_amount = invoice_data.get(\"tax_summary\").get(\"amount_payable\")\n",
        "\n",
        "# Print results\n",
        "print(\"Inventory2 Details:\")\n",
        "print(\"Customer Details\")\n",
        "for key, value in customer_details.items():\n",
        "    print(f\"{key}: {value}\")\n",
        "print()\n",
        "print(\"Products\")\n",
        "for product in products:\n",
        "    for key, value in product.items():\n",
        "        print(f\"{key}: {value}\")\n",
        "print()\n",
        "print(\"Total Amount:\", total_amount)"
      ],
      "metadata": {
        "colab": {
          "base_uri": "https://localhost:8080/"
        },
        "id": "J_uMD6cZOJ-J",
        "outputId": "30db0465-290d-4899-8583-4db478e8f006"
      },
      "execution_count": 48,
      "outputs": [
        {
          "output_type": "stream",
          "name": "stdout",
          "text": [
            "Inventory2 Details:\n",
            "Customer Details\n",
            "name: TEST\n",
            "billing_address: Hyderabad, TELANGANA, 500089\n",
            "phone: 9108239284\n",
            "email: test@gmail.com\n",
            "shipping_address: Hyderabad, TELANGANA, 500089\n",
            "\n",
            "Products\n",
            "imei_no: 1\n",
            "item: WASTE AND SCRAP OF STAINLESS STEEL\n",
            "hsn_sac: 72042190\n",
            "rate: 95.0\n",
            "quantity: 6,790 KGS\n",
            "amount: 6,45,050.00\n",
            "igst: 1,16,109.00 (18%)\n",
            "total_amount: 7,61,159.00\n",
            "\n",
            "Total Amount: 7,68,771.00\n"
          ]
        }
      ]
    },
    {
      "cell_type": "code",
      "source": [],
      "metadata": {
        "id": "9k2mNDNOOpm3"
      },
      "execution_count": null,
      "outputs": []
    }
  ]
}